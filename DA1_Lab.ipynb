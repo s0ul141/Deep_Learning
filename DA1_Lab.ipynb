{
 "cells": [
  {
   "cell_type": "markdown",
   "id": "d770bf72",
   "metadata": {},
   "source": [
    "# DA1 Deep Learning Lab [MAT-6007]\n",
    "## Linear Perceptron Algorithm\n",
    "#### Name - SOUMYA BASU\n",
    "#### Reg No. - 23MDT0047"
   ]
  },
  {
   "cell_type": "markdown",
   "id": "6c35d8d4",
   "metadata": {},
   "source": [
    "### 1. Write a Python code to identify a training function that coincides with NAND and NOR gates. Further, investigate on for what values of weights and bias to achieve 100% accuracy on NAND and NOR gates. (8 Marks)"
   ]
  },
  {
   "cell_type": "code",
   "execution_count": 6,
   "id": "289df5cb",
   "metadata": {},
   "outputs": [],
   "source": [
    "import numpy as np"
   ]
  },
  {
   "cell_type": "code",
   "execution_count": 42,
   "id": "40405df5",
   "metadata": {},
   "outputs": [],
   "source": [
    "def take_weights():\n",
    "    w1 = float(input(\"Enter Weight W1: \"))\n",
    "    w2 = float(input(\"Enter Weight W2: \"))\n",
    "    b = float(input(\"Enter Bias: \"))\n",
    "    w = [w1, w2, b]\n",
    "    return w"
   ]
  },
  {
   "cell_type": "code",
   "execution_count": 43,
   "id": "a12b34fe",
   "metadata": {},
   "outputs": [
    {
     "name": "stdout",
     "output_type": "stream",
     "text": [
      "Input Coordinates: [(0, 0), (0, 1), (1, 0), (1, 1)]\n"
     ]
    }
   ],
   "source": [
    "input_coor = [(x, y) for x in range(2) for y in range(2)]\n",
    "print(\"Input Coordinates:\", input_coor )\n",
    "\n",
    "def signum(z):\n",
    "    if z > 0:\n",
    "        return 1\n",
    "    else:\n",
    "        return 0"
   ]
  },
  {
   "cell_type": "code",
   "execution_count": 46,
   "id": "01f85906",
   "metadata": {},
   "outputs": [],
   "source": [
    "## NN_gate -> Neural Network Gate\n",
    "def NN_gate(output_val):  \n",
    "    coordinates = input_coor\n",
    "    w = take_weights()\n",
    "    eff = 0\n",
    "    i = 0\n",
    "    for r in coordinates:\n",
    "        z = np.dot(r, w[:2]) + w[2]\n",
    "        out = signum(z)\n",
    "        if out == output_val[i]:\n",
    "            eff += 1\n",
    "        i += 1\n",
    "    print(\"Accuracy: {:.2f}%\".format((eff / 4) * 100))"
   ]
  },
  {
   "cell_type": "markdown",
   "id": "62fb7d59",
   "metadata": {},
   "source": [
    "### NAND Gate\n",
    "##### LOGIC for NAND Gate\n",
    "- Bias >0\n",
    "- w2 + Bias >0\n",
    "- w1 + Bias >0\n",
    "- w1 + w2 + Bias <0"
   ]
  },
  {
   "cell_type": "code",
   "execution_count": 47,
   "id": "c50e022e",
   "metadata": {},
   "outputs": [
    {
     "name": "stdout",
     "output_type": "stream",
     "text": [
      "NAND Gate Outputs: [1, 1, 1, 0]\n"
     ]
    }
   ],
   "source": [
    "nand_gate = [int(not (x and y)) for x in range(2) for y in range(2)]\n",
    "print(\"NAND Gate Outputs:\", nand_gate)"
   ]
  },
  {
   "cell_type": "code",
   "execution_count": 48,
   "id": "6e3ab8a5",
   "metadata": {},
   "outputs": [
    {
     "name": "stdout",
     "output_type": "stream",
     "text": [
      "Enter Weight W1: -2\n",
      "Enter Weight W2: -3\n",
      "Enter Bias: 4\n",
      "Accuracy: 100.00%\n"
     ]
    }
   ],
   "source": [
    "NN_gate(nand_gate)"
   ]
  },
  {
   "cell_type": "code",
   "execution_count": 55,
   "id": "31b67c6a",
   "metadata": {
    "scrolled": false
   },
   "outputs": [
    {
     "name": "stdout",
     "output_type": "stream",
     "text": [
      "Count : 1\n",
      "Enter Weight W1: -3\n",
      "Enter Weight W2: -4\n",
      "Enter Bias: -2\n",
      "Accuracy: 25.00%\n",
      "Count : 2\n",
      "Enter Weight W1: -3\n",
      "Enter Weight W2: -4\n",
      "Enter Bias: 0\n",
      "Accuracy: 25.00%\n",
      "Count : 3\n",
      "Enter Weight W1: -3\n",
      "Enter Weight W2: -4\n",
      "Enter Bias: 2\n",
      "Accuracy: 50.00%\n",
      "Count : 4\n",
      "Enter Weight W1: -3\n",
      "Enter Weight W2: -4\n",
      "Enter Bias: 4\n",
      "Accuracy: 75.00%\n",
      "Count : 5\n",
      "Enter Weight W1: -3\n",
      "Enter Weight W2: -4\n",
      "Enter Bias: 6\n",
      "Accuracy: 100.00%\n",
      "Count : 6\n",
      "Enter Weight W1: -3\n",
      "Enter Weight W2: -4\n",
      "Enter Bias: 8\n",
      "Accuracy: 75.00%\n",
      "Count : 7\n",
      "Enter Weight W1: -2\n",
      "Enter Weight W2: -8\n",
      "Enter Bias: 9\n",
      "Accuracy: 100.00%\n",
      "Count : 8\n",
      "Enter Weight W1: -2\n",
      "Enter Weight W2: -8\n",
      "Enter Bias: 10\n",
      "Accuracy: 100.00%\n",
      "Count : 9\n",
      "Enter Weight W1: -2\n",
      "Enter Weight W2: -8\n",
      "Enter Bias: 11\n",
      "Accuracy: 75.00%\n",
      "Count : 10\n",
      "Enter Weight W1: -8\n",
      "Enter Weight W2: -8\n",
      "Enter Bias: 15\n",
      "Accuracy: 100.00%\n"
     ]
    }
   ],
   "source": [
    "for i in range(10):\n",
    "    print(\"Count :\", i+1)\n",
    "    NN_gate(nand_gate)"
   ]
  },
  {
   "cell_type": "markdown",
   "id": "6200e566",
   "metadata": {},
   "source": [
    "#### Achieved 100% accuracy in NAND gate with \n",
    "w1 = [-2], [-3], [-2], [-8] \n",
    "\n",
    "w2 = [-3], [-4], [-8], [-8]\n",
    "\n",
    "bias = [4], [6], [9 or 10], [15] "
   ]
  },
  {
   "cell_type": "markdown",
   "id": "44549816",
   "metadata": {},
   "source": [
    "### NOR Gate\n",
    "##### LOGIC for NOR Gate\n",
    "- Bias >0\n",
    "- w2 + Bias <0\n",
    "- w1 + Bias <0\n",
    "- w1 + w2 + Bias <0\n"
   ]
  },
  {
   "cell_type": "code",
   "execution_count": 51,
   "id": "f39b1c38",
   "metadata": {},
   "outputs": [
    {
     "name": "stdout",
     "output_type": "stream",
     "text": [
      "NOR Gate Outputs: [1, 0, 0, 0]\n"
     ]
    }
   ],
   "source": [
    "nor_gate = [int(not (x or y)) for x in range(2) for y in range(2)]\n",
    "print(\"NOR Gate Outputs:\", nor_gate)"
   ]
  },
  {
   "cell_type": "code",
   "execution_count": 61,
   "id": "e65d1453",
   "metadata": {},
   "outputs": [
    {
     "name": "stdout",
     "output_type": "stream",
     "text": [
      "Enter Weight W1: -3\n",
      "Enter Weight W2: -4\n",
      "Enter Bias: 1\n",
      "Accuracy: 100.00%\n"
     ]
    }
   ],
   "source": [
    "NN_gate(nor_gate)"
   ]
  },
  {
   "cell_type": "code",
   "execution_count": 62,
   "id": "3f90ff56",
   "metadata": {},
   "outputs": [
    {
     "name": "stdout",
     "output_type": "stream",
     "text": [
      "Count : 1\n",
      "Enter Weight W1: -3\n",
      "Enter Weight W2: -2\n",
      "Enter Bias: -2\n",
      "Accuracy: 75.00%\n",
      "Count : 2\n",
      "Enter Weight W1: -3\n",
      "Enter Weight W2: -2\n",
      "Enter Bias: -1\n",
      "Accuracy: 75.00%\n",
      "Count : 3\n",
      "Enter Weight W1: -3\n",
      "Enter Weight W2: -2\n",
      "Enter Bias: 0\n",
      "Accuracy: 75.00%\n",
      "Count : 4\n",
      "Enter Weight W1: -3\n",
      "Enter Weight W2: -2\n",
      "Enter Bias: 1\n",
      "Accuracy: 100.00%\n",
      "Count : 5\n",
      "Enter Weight W1: -3\n",
      "Enter Weight W2: -2\n",
      "Enter Bias: 2\n",
      "Accuracy: 100.00%\n",
      "Count : 6\n",
      "Enter Weight W1: -3\n",
      "Enter Weight W2: -2\n",
      "Enter Bias: 3\n",
      "Accuracy: 75.00%\n",
      "Count : 7\n",
      "Enter Weight W1: -3\n",
      "Enter Weight W2: -2\n",
      "Enter Bias: 4\n",
      "Accuracy: 50.00%\n",
      "Count : 8\n",
      "Enter Weight W1: -5\n",
      "Enter Weight W2: -6\n",
      "Enter Bias: 7\n",
      "Accuracy: 50.00%\n",
      "Count : 9\n",
      "Enter Weight W1: -2\n",
      "Enter Weight W2: -1\n",
      "Enter Bias: 1\n",
      "Accuracy: 100.00%\n",
      "Count : 10\n",
      "Enter Weight W1: -1\n",
      "Enter Weight W2: -1\n",
      "Enter Bias: 1\n",
      "Accuracy: 100.00%\n"
     ]
    }
   ],
   "source": [
    "for i in range(10):\n",
    "    print(\"Count :\", i+1)\n",
    "    NN_gate(nor_gate)"
   ]
  },
  {
   "cell_type": "markdown",
   "id": "68816037",
   "metadata": {},
   "source": [
    "#### Achieved 100% accuracy in NOR gate with \n",
    "w1 = [-3], [-3], [-2], [-1] \n",
    "\n",
    "w2 = [-4], [-2], [-1], [-1]\n",
    "\n",
    "bias = [1], [1 or 2], [1], [1] "
   ]
  },
  {
   "cell_type": "markdown",
   "id": "fc13c630",
   "metadata": {},
   "source": [
    "### 2. List any five binary classification datasets and write the necessary information about those datasets.(2 Marks)"
   ]
  },
  {
   "cell_type": "markdown",
   "id": "0d6a0bb5",
   "metadata": {},
   "source": [
    "#### Five binary classification datasets that are commonly used in deep learning:\n",
    "\n",
    "1. **IMDB Movie Reviews Dataset**\n",
    "   - **Description:** This dataset contains 50,000 movie reviews from IMDB, labeled by sentiment (positive/negative).\n",
    "   - **Features:** Text of the movie reviews.\n",
    "   - **Classes:** 2 (Positive, Negative)\n",
    "   - **Samples:** 50,000 instances (25,000 for training, 25,000 for testing)\n",
    "   - **Source:** (https://www.kaggle.com/utathya/imdb-review-dataset)\n",
    "\n",
    "2. **Cats vs Dogs Dataset**\n",
    "   - **Description:** This dataset contains images of cats and dogs for binary classification.\n",
    "   - **Features:** Images (typically 150x150 pixels or resized appropriately).\n",
    "   - **Classes:** 2 (Cat, Dog)\n",
    "   - **Samples:** 25,000 images\n",
    "   - **Source:** (https://www.kaggle.com/c/dogs-vs-cats/data)\n",
    "\n",
    "3. **Pneumonia Detection (Chest X-ray) Dataset**\n",
    "   - **Description:** This dataset contains chest X-ray images labeled as pneumonia or normal.\n",
    "   - **Features:** Chest X-ray images.\n",
    "   - **Classes:** 2 (Pneumonia, Normal)\n",
    "   - **Samples:** 5,863 images\n",
    "   - **Source:** (https://www.kaggle.com/paultimothymooney/chest-xray-pneumonia)\n",
    "\n",
    "4. **MNIST Dataset (Modified for Binary Classification)**\n",
    "   - **Description:** The MNIST dataset of handwritten digits can be modified for binary classification, e.g., classifying digits '0-4' as one class and '5-9' as another.\n",
    "   - **Features:** 28x28 pixel grayscale images.\n",
    "   - **Classes:** 2 (Digits 0-4, Digits 5-9)\n",
    "   - **Samples:** 70,000 images (60,000 for training, 10,000 for testing)\n",
    "   - **Source:** (http://yann.lecun.com/exdb/mnist/)\n",
    "\n",
    "5. **CIFAR-10 Dataset (Modified for Binary Classification)**\n",
    "   - **Description:** The CIFAR-10 dataset contains 10 classes of images, but can be modified for binary classification, e.g., classifying airplanes vs. all other classes.\n",
    "   - **Features:** 32x32 color images.\n",
    "   - **Classes:** 2 (Airplane, Not-Airplane)\n",
    "   - **Samples:** 60,000 images (50,000 for training, 10,000 for testing)\n",
    "   - **Source:** (https://www.cs.toronto.edu/~kriz/cifar.html)\n",
    "\n"
   ]
  }
 ],
 "metadata": {
  "kernelspec": {
   "display_name": "Python 3 (ipykernel)",
   "language": "python",
   "name": "python3"
  },
  "language_info": {
   "codemirror_mode": {
    "name": "ipython",
    "version": 3
   },
   "file_extension": ".py",
   "mimetype": "text/x-python",
   "name": "python",
   "nbconvert_exporter": "python",
   "pygments_lexer": "ipython3",
   "version": "3.11.4"
  }
 },
 "nbformat": 4,
 "nbformat_minor": 5
}
