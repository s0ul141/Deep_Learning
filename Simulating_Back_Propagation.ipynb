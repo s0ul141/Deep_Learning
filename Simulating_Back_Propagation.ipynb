{
 "cells": [
  {
   "cell_type": "markdown",
   "id": "cce28a82",
   "metadata": {},
   "source": [
    "## Simulating_Back_Propagation"
   ]
  },
  {
   "cell_type": "code",
   "execution_count": 1,
   "id": "6ae3c05b",
   "metadata": {},
   "outputs": [],
   "source": [
    "import random"
   ]
  },
  {
   "cell_type": "code",
   "execution_count": null,
   "id": "3b35de30",
   "metadata": {},
   "outputs": [],
   "source": [
    "no_of_input = int(input(\"Enter Number of Input Nodes: \"))\n",
    "no_of_hidden_layers = int(input(\"Enter Number of Hidden Layers: \"))\n",
    "no_of_nodes_in_hidden_layers = int(input(\"Enter Number of Nodes in \"))"
   ]
  }
 ],
 "metadata": {
  "kernelspec": {
   "display_name": "Python 3 (ipykernel)",
   "language": "python",
   "name": "python3"
  },
  "language_info": {
   "codemirror_mode": {
    "name": "ipython",
    "version": 3
   },
   "file_extension": ".py",
   "mimetype": "text/x-python",
   "name": "python",
   "nbconvert_exporter": "python",
   "pygments_lexer": "ipython3",
   "version": "3.11.4"
  }
 },
 "nbformat": 4,
 "nbformat_minor": 5
}
