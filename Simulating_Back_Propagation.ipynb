{
 "cells": [
  {
   "cell_type": "markdown",
   "id": "70e2c957",
   "metadata": {},
   "source": [
    "## Simulating_Back_Propagation"
   ]
  },
  {
   "cell_type": "code",
   "execution_count": 20,
   "id": "abfcfd69",
   "metadata": {},
   "outputs": [],
   "source": [
    "import numpy as np"
   ]
  },
  {
   "cell_type": "code",
   "execution_count": 10,
   "id": "1d53fe54",
   "metadata": {},
   "outputs": [
    {
     "name": "stdout",
     "output_type": "stream",
     "text": [
      "Enter Number of Input Nodes: 2\n",
      "Enter Number of Hidden Layers: 1\n",
      "Enter Number of Nodes in Hidden Layers: 2\n",
      "Enter Value at 0 position: 2\n",
      "Enter Value at 1 position: 3\n"
     ]
    }
   ],
   "source": [
    "no_of_input = int(input(\"Enter Number of Input Nodes: \"))\n",
    "no_of_hidden_layers = int(input(\"Enter Number of Hidden Layers: \"))\n",
    "no_of_nodes_in_hidden_layers = int(input(\"Enter Number of Nodes in Hidden Layers: \"))\n",
    "input_list = [int(input(f\"Enter Value at {i} position: \")) for i in range(no_of_input)]"
   ]
  },
  {
   "cell_type": "code",
   "execution_count": 34,
   "id": "52f3eea8",
   "metadata": {},
   "outputs": [
    {
     "data": {
      "text/plain": [
       "[[-0.26363761698549126, -0.23664240653821952],\n",
       " [-0.6980622563947242, 2.73871857133953]]"
      ]
     },
     "execution_count": 34,
     "metadata": {},
     "output_type": "execute_result"
    }
   ],
   "source": [
    "no_of_weights = [[np.random.normal(0,1) for _ in range(no_of_nodes_in_hidden_layers * no_of_hidden_layers)] for _ in range(len(input_list))]\n",
    "no_of_weights"
   ]
  },
  {
   "cell_type": "code",
   "execution_count": 11,
   "id": "2813cea9",
   "metadata": {},
   "outputs": [
    {
     "name": "stdout",
     "output_type": "stream",
     "text": [
      "1\n",
      "2\n",
      "[2, 3]\n"
     ]
    }
   ],
   "source": [
    "print(no_of_hidden_layers)\n",
    "print(no_of_nodes_in_hidden_layers)\n",
    "print(input_list)"
   ]
  },
  {
   "cell_type": "code",
   "execution_count": 13,
   "id": "e409f549",
   "metadata": {},
   "outputs": [],
   "source": [
    "\n",
    "input_list = np.array(input_list)"
   ]
  },
  {
   "cell_type": "code",
   "execution_count": 14,
   "id": "1dcf98af",
   "metadata": {},
   "outputs": [
    {
     "data": {
      "text/plain": [
       "array([2, 3])"
      ]
     },
     "execution_count": 14,
     "metadata": {},
     "output_type": "execute_result"
    }
   ],
   "source": [
    "input_list"
   ]
  }
 ],
 "metadata": {
  "kernelspec": {
   "display_name": "Python 3 (ipykernel)",
   "language": "python",
   "name": "python3"
  },
  "language_info": {
   "codemirror_mode": {
    "name": "ipython",
    "version": 3
   },
   "file_extension": ".py",
   "mimetype": "text/x-python",
   "name": "python",
   "nbconvert_exporter": "python",
   "pygments_lexer": "ipython3",
   "version": "3.11.4"
  }
 },
 "nbformat": 4,
 "nbformat_minor": 5
}
