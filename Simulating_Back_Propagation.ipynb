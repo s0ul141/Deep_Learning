{
 "cells": [
  {
   "cell_type": "markdown",
   "id": "8bc6d834",
   "metadata": {},
   "source": [
    "## Simulating_Back_Propagation"
   ]
  },
  {
   "cell_type": "code",
   "execution_count": 1,
   "id": "6da3d9aa",
   "metadata": {},
   "outputs": [],
   "source": [
    "import numpy as np"
   ]
  },
  {
   "cell_type": "code",
   "execution_count": 31,
   "id": "fe0cfd86",
   "metadata": {},
   "outputs": [
    {
     "name": "stdout",
     "output_type": "stream",
     "text": [
      "Enter Number of Input Nodes: 2\n",
      "Enter Number of Hidden Layers: 1\n",
      "Enter Number of Nodes in Hidden Layers: 2\n",
      "Enter Value at 0 position: 2\n",
      "Enter Value at 1 position: 3\n"
     ]
    }
   ],
   "source": [
    "no_of_input = int(input(\"Enter Number of Input Nodes: \"))\n",
    "no_of_hidden_layers = int(input(\"Enter Number of Hidden Layers: \"))\n",
    "no_of_nodes_in_hidden_layers = int(input(\"Enter Number of Nodes in Hidden Layers: \"))\n",
    "#input_list = [int(input(f\"Enter Value at {i} position: \")) for i in range(no_of_input)]\n",
    "input_list = np.array([int(input(f\"Enter Value at {i} position: \")) for i in range(no_of_input)])"
   ]
  },
  {
   "cell_type": "code",
   "execution_count": 32,
   "id": "300bd6ad",
   "metadata": {},
   "outputs": [
    {
     "name": "stdout",
     "output_type": "stream",
     "text": [
      "(2, 2)\n"
     ]
    }
   ],
   "source": [
    "#weights = [[np.random.normal(0,1) for _ in range(no_of_hidden_layers*no_of_nodes_in_hidden_layers)] for _ in range(len(input_list))]\n",
    "\n",
    "weights = [[1,1],[2,3]]\n",
    "weights = np.array(weights)\n",
    "print(weights.shape)"
   ]
  },
  {
   "cell_type": "code",
   "execution_count": 33,
   "id": "841977ca",
   "metadata": {},
   "outputs": [
    {
     "data": {
      "text/plain": [
       "array([[1, 1],\n",
       "       [2, 3]])"
      ]
     },
     "execution_count": 33,
     "metadata": {},
     "output_type": "execute_result"
    }
   ],
   "source": [
    "weights"
   ]
  },
  {
   "cell_type": "code",
   "execution_count": 34,
   "id": "06eada0c",
   "metadata": {},
   "outputs": [
    {
     "data": {
      "text/plain": [
       "array([ 8, 11])"
      ]
     },
     "execution_count": 34,
     "metadata": {},
     "output_type": "execute_result"
    }
   ],
   "source": [
    "h1 = input_list@weights\n",
    "h1"
   ]
  },
  {
   "cell_type": "code",
   "execution_count": 11,
   "id": "a09142b9",
   "metadata": {},
   "outputs": [
    {
     "name": "stdout",
     "output_type": "stream",
     "text": [
      "1\n",
      "2\n",
      "[2, 3]\n"
     ]
    }
   ],
   "source": [
    "print(no_of_hidden_layers)\n",
    "print(no_of_nodes_in_hidden_layers)\n",
    "print(input_list)"
   ]
  },
  {
   "cell_type": "code",
   "execution_count": 17,
   "id": "9f2f25c0",
   "metadata": {},
   "outputs": [],
   "source": [
    "\n"
   ]
  }
 ],
 "metadata": {
  "kernelspec": {
   "display_name": "Python 3 (ipykernel)",
   "language": "python",
   "name": "python3"
  },
  "language_info": {
   "codemirror_mode": {
    "name": "ipython",
    "version": 3
   },
   "file_extension": ".py",
   "mimetype": "text/x-python",
   "name": "python",
   "nbconvert_exporter": "python",
   "pygments_lexer": "ipython3",
   "version": "3.11.4"
  }
 },
 "nbformat": 4,
 "nbformat_minor": 5
}
