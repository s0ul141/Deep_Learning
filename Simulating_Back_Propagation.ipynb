{
 "cells": [
  {
   "cell_type": "markdown",
   "id": "f8527a2d",
   "metadata": {},
   "source": [
    "## Simulating_Back_Propagation"
   ]
  },
  {
   "cell_type": "code",
   "execution_count": 1,
   "id": "d87b11aa",
   "metadata": {},
   "outputs": [],
   "source": [
    "import random"
   ]
  },
  {
   "cell_type": "code",
   "execution_count": 10,
   "id": "601c34b3",
   "metadata": {},
   "outputs": [
    {
     "name": "stdout",
     "output_type": "stream",
     "text": [
      "Enter Number of Input Nodes: 2\n",
      "Enter Number of Hidden Layers: 1\n",
      "Enter Number of Nodes in Hidden Layers: 2\n",
      "Enter Value at 0 position: 2\n",
      "Enter Value at 1 position: 3\n"
     ]
    }
   ],
   "source": [
    "no_of_input = int(input(\"Enter Number of Input Nodes: \"))\n",
    "no_of_hidden_layers = int(input(\"Enter Number of Hidden Layers: \"))\n",
    "no_of_nodes_in_hidden_layers = int(input(\"Enter Number of Nodes in Hidden Layers: \"))\n",
    "input_list = [int(input(f\"Enter Value at {i} position: \")) for i in range(no_of_input)]"
   ]
  },
  {
   "cell_type": "code",
   "execution_count": 11,
   "id": "fd7915c5",
   "metadata": {},
   "outputs": [
    {
     "name": "stdout",
     "output_type": "stream",
     "text": [
      "1\n",
      "2\n",
      "[2, 3]\n"
     ]
    }
   ],
   "source": [
    "print(no_of_hidden_layers)\n",
    "print(no_of_nodes_in_hidden_layers)\n",
    "print(input_list)"
   ]
  },
  {
   "cell_type": "code",
   "execution_count": 13,
   "id": "fb7079e1",
   "metadata": {},
   "outputs": [],
   "source": [
    "import numpy as np\n",
    "input_list = np.array(input_list)"
   ]
  },
  {
   "cell_type": "code",
   "execution_count": 14,
   "id": "5347fe65",
   "metadata": {},
   "outputs": [
    {
     "data": {
      "text/plain": [
       "array([2, 3])"
      ]
     },
     "execution_count": 14,
     "metadata": {},
     "output_type": "execute_result"
    }
   ],
   "source": [
    "input_list"
   ]
  }
 ],
 "metadata": {
  "kernelspec": {
   "display_name": "Python 3 (ipykernel)",
   "language": "python",
   "name": "python3"
  },
  "language_info": {
   "codemirror_mode": {
    "name": "ipython",
    "version": 3
   },
   "file_extension": ".py",
   "mimetype": "text/x-python",
   "name": "python",
   "nbconvert_exporter": "python",
   "pygments_lexer": "ipython3",
   "version": "3.11.4"
  }
 },
 "nbformat": 4,
 "nbformat_minor": 5
}
