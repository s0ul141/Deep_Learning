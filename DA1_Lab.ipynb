{
 "cells": [
  {
   "cell_type": "markdown",
   "id": "324d82aa",
   "metadata": {},
   "source": [
    "## Linear Perceptron Algorithm"
   ]
  },
  {
   "cell_type": "markdown",
   "id": "83a9cd63",
   "metadata": {},
   "source": [
    " 1. Write a Python code to identify a training function that coincides withNANDand NORgates. Further, investigate on for what values of weights and bias to achieve 100% accuracy on NAND and NOR gates. (8 Marks)"
   ]
  },
  {
   "cell_type": "code",
   "execution_count": 1,
   "id": "2b4eec1c",
   "metadata": {},
   "outputs": [
    {
     "name": "stdout",
     "output_type": "stream",
     "text": [
      "NAND gate outputs:\n",
      "[[1.]\n",
      " [1.]\n",
      " [1.]\n",
      " [0.]]\n",
      "NOR gate outputs:\n",
      "[[1.]\n",
      " [0.]\n",
      " [0.]\n",
      " [0.]]\n"
     ]
    }
   ],
   "source": [
    "import numpy as np\n",
    "\n",
    "def sigmoid(x):\n",
    "    return 1 / (1 + np.exp(-x))\n",
    "\n",
    "def train_nand_nor():\n",
    "    # Define the input and output for NAND gate\n",
    "    inputs = np.array([[0, 0], [0, 1], [1, 0], [1, 1]])\n",
    "    nand_outputs = np.array([[1], [1], [1], [0]])  # NAND gate outputs\n",
    "    nor_outputs = np.array([[1], [0], [0], [0]])   # NOR gate outputs\n",
    "    \n",
    "    # Initialize weights and bias for NAND gate\n",
    "    nand_weights = np.array([[-2, -2]])\n",
    "    nand_bias = 3\n",
    "    \n",
    "    # Initialize weights and bias for NOR gate\n",
    "    nor_weights = np.array([[-2, -2]])\n",
    "    nor_bias = 1\n",
    "\n",
    "    # Function to calculate output\n",
    "    def calculate_output(inputs, weights, bias):\n",
    "        linear_output = np.dot(inputs, weights.T) + bias\n",
    "        return sigmoid(linear_output)\n",
    "    \n",
    "    # Calculate and print the NAND gate outputs\n",
    "    nand_pred = calculate_output(inputs, nand_weights, nand_bias)\n",
    "    nand_pred = np.round(nand_pred)\n",
    "    print(\"NAND gate outputs:\")\n",
    "    print(nand_pred)\n",
    "    \n",
    "    # Calculate and print the NOR gate outputs\n",
    "    nor_pred = calculate_output(inputs, nor_weights, nor_bias)\n",
    "    nor_pred = np.round(nor_pred)\n",
    "    print(\"NOR gate outputs:\")\n",
    "    print(nor_pred)\n",
    "\n",
    "train_nand_nor()\n"
   ]
  },
  {
   "cell_type": "code",
   "execution_count": 2,
   "id": "987b5246",
   "metadata": {},
   "outputs": [
    {
     "name": "stdout",
     "output_type": "stream",
     "text": [
      "NAND gate - Weights: -0.30, -0.24, Bias: 0.46, Accuracy: 100.00%\n",
      "NOR gate - Weights: -0.30, -0.11, Bias: 0.06, Accuracy: 100.00%\n"
     ]
    }
   ],
   "source": [
    "import numpy as np\n",
    "\n",
    "def step_function(x):\n",
    "    return 1 if x >= 0 else 0\n",
    "\n",
    "def gate(x1, x2, w1, w2, b):\n",
    "    return step_function(w1*x1 + w2*x2 + b)\n",
    "\n",
    "def train_gate(gate_type):\n",
    "    if gate_type == \"NAND\":\n",
    "        truth_table = [(0,0,1), (0,1,1), (1,0,1), (1,1,0)]\n",
    "    elif gate_type == \"NOR\":\n",
    "        truth_table = [(0,0,1), (0,1,0), (1,0,0), (1,1,0)]\n",
    "    else:\n",
    "        raise ValueError(\"Invalid gate type. Choose 'NAND' or 'NOR'.\")\n",
    "\n",
    "    # Initial weights and bias\n",
    "    w1, w2, b = np.random.rand(3)\n",
    "\n",
    "    epochs = 1000\n",
    "    learning_rate = 0.1\n",
    "\n",
    "    for _ in range(epochs):\n",
    "        for x1, x2, target in truth_table:\n",
    "            prediction = gate(x1, x2, w1, w2, b)\n",
    "            error = target - prediction\n",
    "            \n",
    "            # Update weights and bias\n",
    "            w1 += learning_rate * error * x1\n",
    "            w2 += learning_rate * error * x2\n",
    "            b += learning_rate * error\n",
    "\n",
    "    return w1, w2, b\n",
    "\n",
    "def test_gate(gate_type, w1, w2, b):\n",
    "    if gate_type == \"NAND\":\n",
    "        truth_table = [(0,0,1), (0,1,1), (1,0,1), (1,1,0)]\n",
    "    elif gate_type == \"NOR\":\n",
    "        truth_table = [(0,0,1), (0,1,0), (1,0,0), (1,1,0)]\n",
    "    else:\n",
    "        raise ValueError(\"Invalid gate type. Choose 'NAND' or 'NOR'.\")\n",
    "\n",
    "    correct = 0\n",
    "    for x1, x2, target in truth_table:\n",
    "        prediction = gate(x1, x2, w1, w2, b)\n",
    "        if prediction == target:\n",
    "            correct += 1\n",
    "    \n",
    "    accuracy = correct / len(truth_table) * 100\n",
    "    return accuracy\n",
    "\n",
    "# Train and test NAND gate\n",
    "nand_w1, nand_w2, nand_b = train_gate(\"NAND\")\n",
    "nand_accuracy = test_gate(\"NAND\", nand_w1, nand_w2, nand_b)\n",
    "\n",
    "# Train and test NOR gate\n",
    "nor_w1, nor_w2, nor_b = train_gate(\"NOR\")\n",
    "nor_accuracy = test_gate(\"NOR\", nor_w1, nor_w2, nor_b)\n",
    "\n",
    "print(f\"NAND gate - Weights: {nand_w1:.2f}, {nand_w2:.2f}, Bias: {nand_b:.2f}, Accuracy: {nand_accuracy:.2f}%\")\n",
    "print(f\"NOR gate - Weights: {nor_w1:.2f}, {nor_w2:.2f}, Bias: {nor_b:.2f}, Accuracy: {nor_accuracy:.2f}%\")"
   ]
  }
 ],
 "metadata": {
  "kernelspec": {
   "display_name": "Python 3 (ipykernel)",
   "language": "python",
   "name": "python3"
  },
  "language_info": {
   "codemirror_mode": {
    "name": "ipython",
    "version": 3
   },
   "file_extension": ".py",
   "mimetype": "text/x-python",
   "name": "python",
   "nbconvert_exporter": "python",
   "pygments_lexer": "ipython3",
   "version": "3.11.4"
  }
 },
 "nbformat": 4,
 "nbformat_minor": 5
}
