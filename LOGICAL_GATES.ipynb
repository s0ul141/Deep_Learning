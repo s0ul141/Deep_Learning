{
 "cells": [
  {
   "cell_type": "markdown",
   "id": "2139fbb4",
   "metadata": {},
   "source": [
    "<h3>\n",
    "<center>GATES</center>\n",
    "</h3>"
   ]
  },
  {
   "cell_type": "code",
   "execution_count": 7,
   "id": "e76fb08d",
   "metadata": {},
   "outputs": [
    {
     "name": "stdout",
     "output_type": "stream",
     "text": [
      "Input Coordinates: [(0, 0), (0, 1), (1, 0), (1, 1)]\n"
     ]
    }
   ],
   "source": [
    "import numpy as np\n",
    "\n",
    "def take_weights():\n",
    "    w1 = float(input(\"Enter Weight W1: \"))\n",
    "    w2 = float(input(\"Enter Weight W2: \"))\n",
    "    b = float(input(\"Enter Bias: \"))\n",
    "    w = [w1, w2, b]\n",
    "    return w\n",
    "\n",
    "input_coor = [(x, y) for x in range(2) for y in range(2)]\n",
    "print(\"Input Coordinates:\", input_coor)\n",
    "\n",
    "def signum(z):\n",
    "    if z > 0:\n",
    "        return 1\n",
    "    else:\n",
    "        return 0\n",
    "\n",
    "## NN_gate -> Neural Network Gate\n",
    "## AND GATE\n",
    "def NN_gate(output_val):\n",
    "    coordinates = input_coor\n",
    "    w = take_weights()\n",
    "    eff = 0\n",
    "    i = 0\n",
    "    for r in coordinates:\n",
    "        z = np.dot(r, w[:2]) + w[2]\n",
    "        out = signum(z)\n",
    "        print(f\"Input: {r}, Weighted Sum: {z}, Output: {out}, Expected: {output_val[i]}\")\n",
    "        if out == output_val[i]:\n",
    "            eff += 1\n",
    "        i += 1\n",
    "    print(\"Accuracy: {:.2f}%\".format((eff / 4) * 100))\n",
    "\n"
   ]
  },
  {
   "cell_type": "markdown",
   "id": "406795b7",
   "metadata": {},
   "source": [
    "## AND"
   ]
  },
  {
   "cell_type": "code",
   "execution_count": 1,
   "id": "c74de8d2",
   "metadata": {},
   "outputs": [
    {
     "name": "stdout",
     "output_type": "stream",
     "text": [
      "Input Coordinates: [(0, 0), (0, 1), (1, 0), (1, 1)]\n",
      "Simulating AND Gate...\n",
      "Enter Weight W1: 2\n",
      "Enter Weight W2: 3\n",
      "Enter Bias: 1\n",
      "Input: (0, 0), Weighted Sum: 1.0, Output: 1, Expected: 0\n",
      "Input: (0, 1), Weighted Sum: 4.0, Output: 1, Expected: 0\n",
      "Input: (1, 0), Weighted Sum: 3.0, Output: 1, Expected: 0\n",
      "Input: (1, 1), Weighted Sum: 6.0, Output: 1, Expected: 1\n",
      "Accuracy: 25.00%\n"
     ]
    }
   ],
   "source": [
    "# AND Gate expected output\n",
    "and_output = [0, 0, 0, 1]\n",
    "print(\"Simulating AND Gate...\")\n",
    "NN_gate(and_output)\n"
   ]
  },
  {
   "cell_type": "markdown",
   "id": "583df2ba",
   "metadata": {},
   "source": [
    "## OR"
   ]
  },
  {
   "cell_type": "code",
   "execution_count": 2,
   "id": "bc5d5c4c",
   "metadata": {},
   "outputs": [
    {
     "name": "stdout",
     "output_type": "stream",
     "text": [
      "Input Coordinates: [(0, 0), (0, 1), (1, 0), (1, 1)]\n",
      "Simulating OR Gate...\n",
      "Enter Weight W1: 2\n",
      "Enter Weight W2: 3\n",
      "Enter Bias: 1\n",
      "Input: (0, 0), Weighted Sum: 1.0, Output: 1, Expected: 0\n",
      "Input: (0, 1), Weighted Sum: 4.0, Output: 1, Expected: 1\n",
      "Input: (1, 0), Weighted Sum: 3.0, Output: 1, Expected: 1\n",
      "Input: (1, 1), Weighted Sum: 6.0, Output: 1, Expected: 1\n",
      "Accuracy: 75.00%\n"
     ]
    }
   ],
   "source": [
    "# OR Gate expected output\n",
    "or_output = [0, 1, 1, 1]\n",
    "print(\"Simulating OR Gate...\")\n",
    "NN_gate(or_output)"
   ]
  },
  {
   "cell_type": "markdown",
   "id": "d7a9af51",
   "metadata": {},
   "source": [
    "## NAND"
   ]
  },
  {
   "cell_type": "code",
   "execution_count": 10,
   "id": "4836d59e",
   "metadata": {},
   "outputs": [
    {
     "name": "stdout",
     "output_type": "stream",
     "text": [
      "Simulating XOR Gate...\n",
      "Enter Weight W1: 2\n",
      "Enter Weight W2: 3\n",
      "Enter Bias: 1\n",
      "Input: (0, 0), Weighted Sum: 1.0, Output: 1, Expected: 1\n",
      "Input: (0, 1), Weighted Sum: 4.0, Output: 1, Expected: 1\n",
      "Input: (1, 0), Weighted Sum: 3.0, Output: 1, Expected: 1\n",
      "Input: (1, 1), Weighted Sum: 6.0, Output: 1, Expected: 0\n",
      "Accuracy: 75.00%\n"
     ]
    }
   ],
   "source": [
    "nand_output = [1,1,1,0]\n",
    "print(\"Simulating XOR Gate...\")\n",
    "NN_gate(nand_output)"
   ]
  },
  {
   "cell_type": "markdown",
   "id": "294c1caf",
   "metadata": {},
   "source": [
    "## NOR"
   ]
  },
  {
   "cell_type": "code",
   "execution_count": 9,
   "id": "a947d6ee",
   "metadata": {},
   "outputs": [
    {
     "name": "stdout",
     "output_type": "stream",
     "text": [
      "Simulating XOR Gate...\n",
      "Enter Weight W1: -2\n",
      "Enter Weight W2: -3\n",
      "Enter Bias: 1\n",
      "Input: (0, 0), Weighted Sum: 1.0, Output: 1, Expected: 1\n",
      "Input: (0, 1), Weighted Sum: -2.0, Output: 0, Expected: 0\n",
      "Input: (1, 0), Weighted Sum: -1.0, Output: 0, Expected: 0\n",
      "Input: (1, 1), Weighted Sum: -4.0, Output: 0, Expected: 0\n",
      "Accuracy: 100.00%\n"
     ]
    }
   ],
   "source": [
    "# NOR Gate expected output\n",
    "Nor_output = [1,0,0,0]\n",
    "print(\"Simulating XOR Gate...\")\n",
    "NN_gate(Nor_output)\n"
   ]
  },
  {
   "cell_type": "markdown",
   "id": "714253b5",
   "metadata": {},
   "source": [
    "## XOR "
   ]
  },
  {
   "cell_type": "code",
   "execution_count": 6,
   "id": "7b8ab186",
   "metadata": {},
   "outputs": [
    {
     "name": "stdout",
     "output_type": "stream",
     "text": [
      "Input Coordinates: [(0, 0), (0, 1), (1, 0), (1, 1)]\n",
      "Simulating XOR Gate...\n",
      "Enter Weight W1: 2\n",
      "Enter Weight W2: 3\n",
      "Enter Bias: 1\n",
      "Input: (0, 0), Weighted Sum: 1.0, Output: 1, Expected: 0\n",
      "Input: (0, 1), Weighted Sum: 4.0, Output: 1, Expected: 1\n",
      "Input: (1, 0), Weighted Sum: 3.0, Output: 1, Expected: 1\n",
      "Input: (1, 1), Weighted Sum: 6.0, Output: 1, Expected: 0\n",
      "Accuracy: 50.00%\n"
     ]
    }
   ],
   "source": [
    "# XOR Gate expected output\n",
    "xor_output = [0, 1, 1, 0]\n",
    "print(\"Simulating XOR Gate...\")\n",
    "NN_gate(xor_output)\n"
   ]
  },
  {
   "cell_type": "markdown",
   "id": "ba0b4970",
   "metadata": {},
   "source": [
    "## XNOR"
   ]
  },
  {
   "cell_type": "code",
   "execution_count": null,
   "id": "166e1925",
   "metadata": {},
   "outputs": [],
   "source": [
    "# XNOR Gate expected output\n",
    "xnor_output = [1, 0, 0, 1]\n",
    "print(\"Simulating XNOR Gate...\")\n",
    "NN_gate(xnor_output)\n"
   ]
  }
 ],
 "metadata": {
  "kernelspec": {
   "display_name": "Python 3 (ipykernel)",
   "language": "python",
   "name": "python3"
  },
  "language_info": {
   "codemirror_mode": {
    "name": "ipython",
    "version": 3
   },
   "file_extension": ".py",
   "mimetype": "text/x-python",
   "name": "python",
   "nbconvert_exporter": "python",
   "pygments_lexer": "ipython3",
   "version": "3.11.4"
  }
 },
 "nbformat": 4,
 "nbformat_minor": 5
}
