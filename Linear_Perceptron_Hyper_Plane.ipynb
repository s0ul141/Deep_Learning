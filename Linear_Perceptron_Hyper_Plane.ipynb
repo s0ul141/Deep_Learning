{
 "cells": [
  {
   "cell_type": "code",
   "execution_count": 2,
   "id": "c7df6deb",
   "metadata": {},
   "outputs": [],
   "source": [
    "import numpy as np"
   ]
  },
  {
   "cell_type": "code",
   "execution_count": null,
   "id": "11ff1d70",
   "metadata": {},
   "outputs": [],
   "source": [
    "# lets not think about it right now\n",
    "def take_input():\n"
   ]
  },
  {
   "cell_type": "code",
   "execution_count": 26,
   "id": "7fbc811e",
   "metadata": {},
   "outputs": [],
   "source": [
    "count = 0\n",
    "def signum (x):\n",
    "    return 1 if x>0 else -1"
   ]
  },
  {
   "cell_type": "code",
   "execution_count": 101,
   "id": "88886900",
   "metadata": {},
   "outputs": [],
   "source": [
    "\n",
    "def linear_perceptron(input_val, weight, classs ):\n",
    "    global count\n",
    "    eita = 0.5\n",
    "    input_val = np.array(input_val)\n",
    "    weight = np.array(weight)\n",
    "    y = signum(np.dot(input_val, weight))\n",
    "    if y != classs :\n",
    "        new_weight = weight + (eita*(classs - y))*input_val\n",
    "        count+=1\n",
    "        return linear_perceptron(input_val, new_weight, classs)\n",
    "    else :\n",
    "        print(f\"Classified as :{y} and originally it was {classs}\\nnumber of times weights were changed {count}\\nnew updated weights are {weight}\")\n",
    "        "
   ]
  },
  {
   "cell_type": "code",
   "execution_count": 102,
   "id": "afeca5e2",
   "metadata": {
    "scrolled": true
   },
   "outputs": [
    {
     "name": "stdout",
     "output_type": "stream",
     "text": [
      "Classified as :1 and originally it was 1\n",
      "number of times weights were changed 2\n",
      "new updated weights are [ 1.  1. -7.]\n"
     ]
    }
   ],
   "source": [
    "\n",
    "linear_perceptron([1,-4,-6], [-1,9,5], 1)\n",
    "count =0 "
   ]
  }
 ],
 "metadata": {
  "kernelspec": {
   "display_name": "Python 3 (ipykernel)",
   "language": "python",
   "name": "python3"
  },
  "language_info": {
   "codemirror_mode": {
    "name": "ipython",
    "version": 3
   },
   "file_extension": ".py",
   "mimetype": "text/x-python",
   "name": "python",
   "nbconvert_exporter": "python",
   "pygments_lexer": "ipython3",
   "version": "3.11.4"
  }
 },
 "nbformat": 4,
 "nbformat_minor": 5
}
