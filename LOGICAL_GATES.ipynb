{
 "cells": [
  {
   "cell_type": "markdown",
   "id": "2139fbb4",
   "metadata": {},
   "source": [
    "<h3>\n",
    "<center>GATES</center>\n",
    "</h3>"
   ]
  },
  {
   "cell_type": "code",
   "execution_count": 7,
   "id": "e76fb08d",
   "metadata": {},
   "outputs": [
    {
     "name": "stdout",
     "output_type": "stream",
     "text": [
      "Input Coordinates: [(0, 0), (0, 1), (1, 0), (1, 1)]\n"
     ]
    }
   ],
   "source": [
    "import numpy as np\n",
    "\n",
    "def take_weights():\n",
    "    w1 = float(input(\"Enter Weight W1: \"))\n",
    "    w2 = float(input(\"Enter Weight W2: \"))\n",
    "    b = float(input(\"Enter Bias: \"))\n",
    "    w = [w1, w2, b]\n",
    "    return w\n",
    "\n",
    "input_coor = [(x, y) for x in range(2) for y in range(2)]\n",
    "print(\"Input Coordinates:\", input_coor)\n",
    "\n",
    "def signum(z):\n",
    "    if z > 0:\n",
    "        return 1\n",
    "    else:\n",
    "        return 0\n",
    "\n",
    "## NN_gate -> Neural Network Gate\n",
    "def NN_gate(output_val):\n",
    "    coordinates = input_coor\n",
    "    w = take_weights()\n",
    "    eff = 0\n",
    "    i = 0\n",
    "    for r in coordinates:\n",
    "        z = np.dot(r, w[:2]) + w[2]\n",
    "        out = signum(z)\n",
    "        print(f\"Input: {r}, Weighted Sum: {z}, Output: {out}, Expected: {output_val[i]}\")\n",
    "        if out == output_val[i]:\n",
    "            eff += 1\n",
    "        i += 1\n",
    "    print(\"Accuracy: {:.2f}%\".format((eff / 4) * 100))"
   ]
  },
  {
   "cell_type": "markdown",
   "id": "406795b7",
   "metadata": {},
   "source": [
    "## AND"
   ]
  },
  {
   "cell_type": "code",
   "execution_count": 25,
   "id": "c74de8d2",
   "metadata": {},
   "outputs": [
    {
     "name": "stdout",
     "output_type": "stream",
     "text": [
      "Simulating AND Gate...\n",
      "Enter Weight W1: 3\n",
      "Enter Weight W2: 3\n",
      "Enter Bias: -4\n",
      "Input: (0, 0), Weighted Sum: -4.0, Output: 0, Expected: 0\n",
      "Input: (0, 1), Weighted Sum: -1.0, Output: 0, Expected: 0\n",
      "Input: (1, 0), Weighted Sum: -1.0, Output: 0, Expected: 0\n",
      "Input: (1, 1), Weighted Sum: 2.0, Output: 1, Expected: 1\n",
      "Accuracy: 100.00%\n"
     ]
    }
   ],
   "source": [
    "# AND Gate expected output\n",
    "and_output = [0, 0, 0, 1]\n",
    "print(\"Simulating AND Gate...\")\n",
    "NN_gate(and_output)\n"
   ]
  },
  {
   "cell_type": "markdown",
   "id": "583df2ba",
   "metadata": {},
   "source": [
    "## OR"
   ]
  },
  {
   "cell_type": "code",
   "execution_count": 28,
   "id": "bc5d5c4c",
   "metadata": {},
   "outputs": [
    {
     "name": "stdout",
     "output_type": "stream",
     "text": [
      "Simulating OR Gate...\n",
      "Enter Weight W1: 3\n",
      "Enter Weight W2: 2\n",
      "Enter Bias: 0\n",
      "Input: (0, 0), Weighted Sum: 0.0, Output: 0, Expected: 0\n",
      "Input: (0, 1), Weighted Sum: 2.0, Output: 1, Expected: 1\n",
      "Input: (1, 0), Weighted Sum: 3.0, Output: 1, Expected: 1\n",
      "Input: (1, 1), Weighted Sum: 5.0, Output: 1, Expected: 1\n",
      "Accuracy: 100.00%\n"
     ]
    }
   ],
   "source": [
    "# OR Gate expected output\n",
    "or_output = [0, 1, 1, 1]\n",
    "print(\"Simulating OR Gate...\")\n",
    "NN_gate(or_output)"
   ]
  },
  {
   "cell_type": "markdown",
   "id": "d7a9af51",
   "metadata": {},
   "source": [
    "## NAND"
   ]
  },
  {
   "cell_type": "code",
   "execution_count": 32,
   "id": "4836d59e",
   "metadata": {},
   "outputs": [
    {
     "name": "stdout",
     "output_type": "stream",
     "text": [
      "Simulating XOR Gate...\n",
      "Enter Weight W1: -1\n",
      "Enter Weight W2: -1\n",
      "Enter Bias: 1.5\n",
      "Input: (0, 0), Weighted Sum: 1.5, Output: 1, Expected: 1\n",
      "Input: (0, 1), Weighted Sum: 0.5, Output: 1, Expected: 1\n",
      "Input: (1, 0), Weighted Sum: 0.5, Output: 1, Expected: 1\n",
      "Input: (1, 1), Weighted Sum: -0.5, Output: 0, Expected: 0\n",
      "Accuracy: 100.00%\n"
     ]
    }
   ],
   "source": [
    "nand_output = [1,1,1,0]\n",
    "print(\"Simulating XOR Gate...\")\n",
    "NN_gate(nand_output)"
   ]
  },
  {
   "cell_type": "markdown",
   "id": "294c1caf",
   "metadata": {},
   "source": [
    "## NOR"
   ]
  },
  {
   "cell_type": "code",
   "execution_count": 9,
   "id": "a947d6ee",
   "metadata": {},
   "outputs": [
    {
     "name": "stdout",
     "output_type": "stream",
     "text": [
      "Simulating XOR Gate...\n",
      "Enter Weight W1: -2\n",
      "Enter Weight W2: -3\n",
      "Enter Bias: 1\n",
      "Input: (0, 0), Weighted Sum: 1.0, Output: 1, Expected: 1\n",
      "Input: (0, 1), Weighted Sum: -2.0, Output: 0, Expected: 0\n",
      "Input: (1, 0), Weighted Sum: -1.0, Output: 0, Expected: 0\n",
      "Input: (1, 1), Weighted Sum: -4.0, Output: 0, Expected: 0\n",
      "Accuracy: 100.00%\n"
     ]
    }
   ],
   "source": [
    "# NOR Gate expected output\n",
    "Nor_output = [1,0,0,0]\n",
    "print(\"Simulating XOR Gate...\")\n",
    "NN_gate(Nor_output)\n"
   ]
  },
  {
   "cell_type": "markdown",
   "id": "714253b5",
   "metadata": {},
   "source": [
    "## XOR "
   ]
  },
  {
   "cell_type": "code",
   "execution_count": 6,
   "id": "7b8ab186",
   "metadata": {},
   "outputs": [
    {
     "name": "stdout",
     "output_type": "stream",
     "text": [
      "Input Coordinates: [(0, 0), (0, 1), (1, 0), (1, 1)]\n",
      "Simulating XOR Gate...\n",
      "Enter Weight W1: 2\n",
      "Enter Weight W2: 3\n",
      "Enter Bias: 1\n",
      "Input: (0, 0), Weighted Sum: 1.0, Output: 1, Expected: 0\n",
      "Input: (0, 1), Weighted Sum: 4.0, Output: 1, Expected: 1\n",
      "Input: (1, 0), Weighted Sum: 3.0, Output: 1, Expected: 1\n",
      "Input: (1, 1), Weighted Sum: 6.0, Output: 1, Expected: 0\n",
      "Accuracy: 50.00%\n"
     ]
    }
   ],
   "source": [
    "# XOR Gate expected output\n",
    "xor_output = [0, 1, 1, 0]\n",
    "print(\"Simulating XOR Gate...\")\n",
    "NN_gate(xor_output)\n"
   ]
  },
  {
   "cell_type": "markdown",
   "id": "ba0b4970",
   "metadata": {},
   "source": [
    "## XNOR"
   ]
  },
  {
   "cell_type": "code",
   "execution_count": 12,
   "id": "166e1925",
   "metadata": {},
   "outputs": [
    {
     "name": "stdout",
     "output_type": "stream",
     "text": [
      "Simulating XNOR Gate...\n",
      "Enter Weight W1: -4\n",
      "Enter Weight W2: -3\n",
      "Enter Bias: 1\n",
      "Input: (0, 0), Weighted Sum: 1.0, Output: 1, Expected: 1\n",
      "Input: (0, 1), Weighted Sum: -2.0, Output: 0, Expected: 0\n",
      "Input: (1, 0), Weighted Sum: -3.0, Output: 0, Expected: 0\n",
      "Input: (1, 1), Weighted Sum: -6.0, Output: 0, Expected: 1\n",
      "Accuracy: 75.00%\n"
     ]
    }
   ],
   "source": [
    "# XNOR Gate expected output\n",
    "xnor_output = [1, 0, 0, 1]\n",
    "print(\"Simulating XNOR Gate...\")\n",
    "NN_gate(xnor_output)\n"
   ]
  },
  {
   "cell_type": "code",
   "execution_count": 13,
   "id": "672c025b",
   "metadata": {},
   "outputs": [],
   "source": [
    "def train_perceptron(X, y, learning_rate=0.1, epochs=10):\n",
    "    \n",
    "    # Initialize weights and bias\n",
    "    weights = [0] * len(X[0])\n",
    "    bias = 0\n",
    "\n",
    "    # Store predictions during training\n",
    "    predictions = []\n",
    "\n",
    "    # Training loop\n",
    "    for epoch in range(epochs):\n",
    "        for i, inputs in enumerate(X):\n",
    "            # Calculate weighted sum\n",
    "            weighted_sum = sum(x * w for x, w in zip(inputs, weights)) + bias\n",
    "            prediction = 1 if weighted_sum >= 0 else 0\n",
    "\n",
    "            # Save the prediction\n",
    "            predictions.append((inputs, y[i], prediction))\n",
    "\n",
    "            # Update weights and bias based on error\n",
    "            error = y[i] - prediction\n",
    "            weights = [w + learning_rate * error * x for w, x in zip(weights, inputs)]\n",
    "            bias += learning_rate * error\n",
    "\n",
    "    return weights, bias, predictions"
   ]
  },
  {
   "cell_type": "code",
   "execution_count": 15,
   "id": "828f5fbc",
   "metadata": {
    "collapsed": true
   },
   "outputs": [
    {
     "name": "stdout",
     "output_type": "stream",
     "text": [
      "Weights: [0.02, 0.01], Bias: -0.03\n",
      "Predictions during training:\n",
      "Input: (0, 0), Target: 0, Prediction: 1\n",
      "Input: (0, 1), Target: 0, Prediction: 0\n",
      "Input: (1, 0), Target: 0, Prediction: 0\n",
      "Input: (1, 1), Target: 1, Prediction: 0\n",
      "Input: (0, 0), Target: 0, Prediction: 1\n",
      "Input: (0, 1), Target: 0, Prediction: 1\n",
      "Input: (1, 0), Target: 0, Prediction: 0\n",
      "Input: (1, 1), Target: 1, Prediction: 0\n",
      "Input: (0, 0), Target: 0, Prediction: 0\n",
      "Input: (0, 1), Target: 0, Prediction: 1\n",
      "Input: (1, 0), Target: 0, Prediction: 1\n",
      "Input: (1, 1), Target: 1, Prediction: 0\n",
      "Input: (0, 0), Target: 0, Prediction: 0\n",
      "Input: (0, 1), Target: 0, Prediction: 0\n",
      "Input: (1, 0), Target: 0, Prediction: 1\n",
      "Input: (1, 1), Target: 1, Prediction: 0\n",
      "Input: (0, 0), Target: 0, Prediction: 0\n",
      "Input: (0, 1), Target: 0, Prediction: 1\n",
      "Input: (1, 0), Target: 0, Prediction: 0\n",
      "Input: (1, 1), Target: 1, Prediction: 1\n",
      "Input: (0, 0), Target: 0, Prediction: 0\n",
      "Input: (0, 1), Target: 0, Prediction: 0\n",
      "Input: (1, 0), Target: 0, Prediction: 0\n",
      "Input: (1, 1), Target: 1, Prediction: 1\n",
      "Input: (0, 0), Target: 0, Prediction: 0\n",
      "Input: (0, 1), Target: 0, Prediction: 0\n",
      "Input: (1, 0), Target: 0, Prediction: 0\n",
      "Input: (1, 1), Target: 1, Prediction: 1\n",
      "Input: (0, 0), Target: 0, Prediction: 0\n",
      "Input: (0, 1), Target: 0, Prediction: 0\n",
      "Input: (1, 0), Target: 0, Prediction: 0\n",
      "Input: (1, 1), Target: 1, Prediction: 1\n",
      "Input: (0, 0), Target: 0, Prediction: 0\n",
      "Input: (0, 1), Target: 0, Prediction: 0\n",
      "Input: (1, 0), Target: 0, Prediction: 0\n",
      "Input: (1, 1), Target: 1, Prediction: 1\n",
      "Input: (0, 0), Target: 0, Prediction: 0\n",
      "Input: (0, 1), Target: 0, Prediction: 0\n",
      "Input: (1, 0), Target: 0, Prediction: 0\n",
      "Input: (1, 1), Target: 1, Prediction: 1\n"
     ]
    }
   ],
   "source": [
    "y = [0, 0, 0, 1]\n",
    "X = [(0, 0), (0, 1), (1, 0), (1, 1)]\n",
    "# Train the perceptron\n",
    "weights, bias, predictions = train_perceptron(X, y, learning_rate=0.01, epochs=10)\n",
    "\n",
    "# Display results\n",
    "print(f\"Weights: {weights}, Bias: {bias}\")\n",
    "print(\"Predictions during training:\")\n",
    "for inputs, target, prediction in predictions:\n",
    "    print(f\"Input: {inputs}, Target: {target}, Prediction: {prediction}\")"
   ]
  },
  {
   "cell_type": "code",
   "execution_count": 18,
   "id": "8ff97a1d",
   "metadata": {
    "collapsed": true
   },
   "outputs": [
    {
     "name": "stdout",
     "output_type": "stream",
     "text": [
      "Weights: [-0.01, 0.0], Bias: 0.0\n",
      "Predictions during training:\n",
      "Input: (0, 0), Target: 0, Prediction: 1\n",
      "Input: (0, 1), Target: 1, Prediction: 0\n",
      "Input: (1, 0), Target: 1, Prediction: 1\n",
      "Input: (1, 1), Target: 0, Prediction: 1\n",
      "Input: (0, 0), Target: 0, Prediction: 0\n",
      "Input: (0, 1), Target: 1, Prediction: 0\n",
      "Input: (1, 0), Target: 1, Prediction: 0\n",
      "Input: (1, 1), Target: 0, Prediction: 1\n",
      "Input: (0, 0), Target: 0, Prediction: 1\n",
      "Input: (0, 1), Target: 1, Prediction: 0\n",
      "Input: (1, 0), Target: 1, Prediction: 0\n",
      "Input: (1, 1), Target: 0, Prediction: 1\n",
      "Input: (0, 0), Target: 0, Prediction: 1\n",
      "Input: (0, 1), Target: 1, Prediction: 0\n",
      "Input: (1, 0), Target: 1, Prediction: 0\n",
      "Input: (1, 1), Target: 0, Prediction: 1\n",
      "Input: (0, 0), Target: 0, Prediction: 1\n",
      "Input: (0, 1), Target: 1, Prediction: 0\n",
      "Input: (1, 0), Target: 1, Prediction: 0\n",
      "Input: (1, 1), Target: 0, Prediction: 1\n",
      "Input: (0, 0), Target: 0, Prediction: 1\n",
      "Input: (0, 1), Target: 1, Prediction: 0\n",
      "Input: (1, 0), Target: 1, Prediction: 0\n",
      "Input: (1, 1), Target: 0, Prediction: 1\n",
      "Input: (0, 0), Target: 0, Prediction: 1\n",
      "Input: (0, 1), Target: 1, Prediction: 0\n",
      "Input: (1, 0), Target: 1, Prediction: 0\n",
      "Input: (1, 1), Target: 0, Prediction: 1\n",
      "Input: (0, 0), Target: 0, Prediction: 1\n",
      "Input: (0, 1), Target: 1, Prediction: 0\n",
      "Input: (1, 0), Target: 1, Prediction: 0\n",
      "Input: (1, 1), Target: 0, Prediction: 1\n",
      "Input: (0, 0), Target: 0, Prediction: 1\n",
      "Input: (0, 1), Target: 1, Prediction: 0\n",
      "Input: (1, 0), Target: 1, Prediction: 0\n",
      "Input: (1, 1), Target: 0, Prediction: 1\n",
      "Input: (0, 0), Target: 0, Prediction: 1\n",
      "Input: (0, 1), Target: 1, Prediction: 0\n",
      "Input: (1, 0), Target: 1, Prediction: 0\n",
      "Input: (1, 1), Target: 0, Prediction: 1\n"
     ]
    }
   ],
   "source": [
    "y = [0, 1, 1, 0]\n",
    "X = [(0, 0), (0, 1), (1, 0), (1, 1)]\n",
    "# Train the perceptron\n",
    "weights, bias, predictions = train_perceptron(X, y, learning_rate=0.01, epochs=10)\n",
    "\n",
    "# Display results\n",
    "print(f\"Weights: {weights}, Bias: {bias}\")\n",
    "print(\"Predictions during training:\")\n",
    "for inputs, target, prediction in predictions:\n",
    "    print(f\"Input: {inputs}, Target: {target}, Prediction: {prediction}\")"
   ]
  }
 ],
 "metadata": {
  "kernelspec": {
   "display_name": "Python 3 (ipykernel)",
   "language": "python",
   "name": "python3"
  },
  "language_info": {
   "codemirror_mode": {
    "name": "ipython",
    "version": 3
   },
   "file_extension": ".py",
   "mimetype": "text/x-python",
   "name": "python",
   "nbconvert_exporter": "python",
   "pygments_lexer": "ipython3",
   "version": "3.11.4"
  }
 },
 "nbformat": 4,
 "nbformat_minor": 5
}
