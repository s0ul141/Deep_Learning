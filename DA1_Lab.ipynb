{
 "cells": [
  {
   "cell_type": "markdown",
   "id": "43626458",
   "metadata": {},
   "source": [
    "# DA1 Deep Learning Lab [MAT-6007]\n",
    "## Linear Perceptron Algorithm"
   ]
  },
  {
   "cell_type": "markdown",
   "id": "c032ea4b",
   "metadata": {},
   "source": [
    " 1. Write a Python code to identify a training function that coincides withNANDand NORgates. Further, investigate on for what values of weights and bias to achieve 100% accuracy on NAND and NOR gates. (8 Marks)"
   ]
  },
  {
   "cell_type": "code",
   "execution_count": 6,
   "id": "91d3e80c",
   "metadata": {},
   "outputs": [],
   "source": [
    "import numpy as np"
   ]
  },
  {
   "cell_type": "code",
   "execution_count": 3,
   "id": "b6b13e24",
   "metadata": {},
   "outputs": [],
   "source": [
    "def take_weights():\n",
    "    w1 = float(input(\"Enter Weight W1: \"))\n",
    "    w2 = float(input(\"Enter Weight W2: \"))\n",
    "    b = float(input(\"Enter Bias: \"))\n",
    "    w = [w1, w2, b]\n",
    "    return w"
   ]
  },
  {
   "cell_type": "code",
   "execution_count": 4,
   "id": "d1029c1a",
   "metadata": {},
   "outputs": [
    {
     "name": "stdout",
     "output_type": "stream",
     "text": [
      "Input Coordinates: [(0, 0), (0, 1), (1, 0), (1, 1)]\n",
      "NAND Gate Outputs: [1, 1, 1, 0]\n"
     ]
    }
   ],
   "source": [
    "coordinates = [(x, y) for x in range(2) for y in range(2)]\n",
    "print(\"Input Coordinates:\", coordinates)\n",
    "\n",
    "nand_gate = [not (x and y) for x in range(2) for y in range(2)]\n",
    "nand_gate = [int(val) for val in nand_gate]\n",
    "print(\"NAND Gate Outputs:\", nand_gate)"
   ]
  },
  {
   "cell_type": "code",
   "execution_count": 5,
   "id": "93701298",
   "metadata": {},
   "outputs": [],
   "source": [
    "def signum(z):\n",
    "    if z > 0:\n",
    "        return 1\n",
    "    else:\n",
    "        return 0\n",
    "\n",
    "def nn_in_nandgate(coordinates, nand_gate):\n",
    "    w = take_weights()\n",
    "    eff = 0\n",
    "    i = 0\n",
    "    for r in coordinates:\n",
    "        z = np.dot(r, w[:2]) + w[2]\n",
    "        out = signum(z)\n",
    "        if out == nand_gate[i]:\n",
    "            eff += 1\n",
    "        i += 1\n",
    "    print(\"Accuracy: {:.2f}%\".format((eff / 4) * 100))\n"
   ]
  },
  {
   "cell_type": "code",
   "execution_count": 10,
   "id": "5884a928",
   "metadata": {},
   "outputs": [
    {
     "name": "stdout",
     "output_type": "stream",
     "text": [
      "Enter Weight W1: -3\n",
      "Enter Weight W2: -2\n",
      "Enter Bias: 4\n",
      "Accuracy: 100.00%\n"
     ]
    }
   ],
   "source": [
    "nn_in_nandgate(coordinates, nand_gate)"
   ]
  },
  {
   "cell_type": "markdown",
   "id": "c0fdc2f8",
   "metadata": {},
   "source": [
    "2. List any five binary classification datasets and write the necessary information about those datasets.(2 Marks)"
   ]
  },
  {
   "cell_type": "markdown",
   "id": "9cc37cdc",
   "metadata": {},
   "source": [
    "#### Five binary classification datasets that are commonly used in deep learning:\n",
    "\n",
    "1. **IMDB Movie Reviews Dataset**\n",
    "   - **Description:** This dataset contains 50,000 movie reviews from IMDB, labeled by sentiment (positive/negative).\n",
    "   - **Features:** Text of the movie reviews.\n",
    "   - **Classes:** 2 (Positive, Negative)\n",
    "   - **Samples:** 50,000 instances (25,000 for training, 25,000 for testing)\n",
    "   - **Source:** [Kaggle](https://www.kaggle.com/utathya/imdb-review-dataset)\n",
    "\n",
    "2. **Cats vs Dogs Dataset**\n",
    "   - **Description:** This dataset contains images of cats and dogs for binary classification.\n",
    "   - **Features:** Images (typically 150x150 pixels or resized appropriately).\n",
    "   - **Classes:** 2 (Cat, Dog)\n",
    "   - **Samples:** 25,000 images\n",
    "   - **Source:** [Kaggle](https://www.kaggle.com/c/dogs-vs-cats/data)\n",
    "\n",
    "3. **Pneumonia Detection (Chest X-ray) Dataset**\n",
    "   - **Description:** This dataset contains chest X-ray images labeled as pneumonia or normal.\n",
    "   - **Features:** Chest X-ray images.\n",
    "   - **Classes:** 2 (Pneumonia, Normal)\n",
    "   - **Samples:** 5,863 images\n",
    "   - **Source:** [Kaggle](https://www.kaggle.com/paultimothymooney/chest-xray-pneumonia)\n",
    "\n",
    "4. **MNIST Dataset (Modified for Binary Classification)**\n",
    "   - **Description:** The MNIST dataset of handwritten digits can be modified for binary classification, e.g., classifying digits '0-4' as one class and '5-9' as another.\n",
    "   - **Features:** 28x28 pixel grayscale images.\n",
    "   - **Classes:** 2 (Digits 0-4, Digits 5-9)\n",
    "   - **Samples:** 70,000 images (60,000 for training, 10,000 for testing)\n",
    "   - **Source:** [Yann LeCun's website](http://yann.lecun.com/exdb/mnist/)\n",
    "\n",
    "5. **CIFAR-10 Dataset (Modified for Binary Classification)**\n",
    "   - **Description:** The CIFAR-10 dataset contains 10 classes of images, but can be modified for binary classification, e.g., classifying airplanes vs. all other classes.\n",
    "   - **Features:** 32x32 color images.\n",
    "   - **Classes:** 2 (Airplane, Not-Airplane)\n",
    "   - **Samples:** 60,000 images (50,000 for training, 10,000 for testing)\n",
    "   - **Source:** [CIFAR-10 Dataset](https://www.cs.toronto.edu/~kriz/cifar.html)\n",
    "\n"
   ]
  }
 ],
 "metadata": {
  "kernelspec": {
   "display_name": "Python 3 (ipykernel)",
   "language": "python",
   "name": "python3"
  },
  "language_info": {
   "codemirror_mode": {
    "name": "ipython",
    "version": 3
   },
   "file_extension": ".py",
   "mimetype": "text/x-python",
   "name": "python",
   "nbconvert_exporter": "python",
   "pygments_lexer": "ipython3",
   "version": "3.11.4"
  }
 },
 "nbformat": 4,
 "nbformat_minor": 5
}
