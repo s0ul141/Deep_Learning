{
 "cells": [
  {
   "cell_type": "code",
   "execution_count": 1,
   "id": "c1fc011c",
   "metadata": {},
   "outputs": [],
   "source": [
    "import pandas as pd"
   ]
  },
  {
   "cell_type": "code",
   "execution_count": 2,
   "id": "c7df6deb",
   "metadata": {},
   "outputs": [],
   "source": [
    "import numpy as np"
   ]
  },
  {
   "cell_type": "code",
   "execution_count": 3,
   "id": "72ef83c2",
   "metadata": {},
   "outputs": [
    {
     "data": {
      "text/html": [
       "<div>\n",
       "<style scoped>\n",
       "    .dataframe tbody tr th:only-of-type {\n",
       "        vertical-align: middle;\n",
       "    }\n",
       "\n",
       "    .dataframe tbody tr th {\n",
       "        vertical-align: top;\n",
       "    }\n",
       "\n",
       "    .dataframe thead th {\n",
       "        text-align: right;\n",
       "    }\n",
       "</style>\n",
       "<table border=\"1\" class=\"dataframe\">\n",
       "  <thead>\n",
       "    <tr style=\"text-align: right;\">\n",
       "      <th></th>\n",
       "      <th>x1</th>\n",
       "      <th>x2</th>\n",
       "      <th>class</th>\n",
       "    </tr>\n",
       "  </thead>\n",
       "  <tbody>\n",
       "    <tr>\n",
       "      <th>0</th>\n",
       "      <td>3</td>\n",
       "      <td>1</td>\n",
       "      <td>1</td>\n",
       "    </tr>\n",
       "    <tr>\n",
       "      <th>1</th>\n",
       "      <td>2</td>\n",
       "      <td>-4</td>\n",
       "      <td>1</td>\n",
       "    </tr>\n",
       "    <tr>\n",
       "      <th>2</th>\n",
       "      <td>1</td>\n",
       "      <td>1</td>\n",
       "      <td>-1</td>\n",
       "    </tr>\n",
       "    <tr>\n",
       "      <th>3</th>\n",
       "      <td>-1</td>\n",
       "      <td>-1</td>\n",
       "      <td>-1</td>\n",
       "    </tr>\n",
       "    <tr>\n",
       "      <th>4</th>\n",
       "      <td>-5</td>\n",
       "      <td>-5</td>\n",
       "      <td>-1</td>\n",
       "    </tr>\n",
       "    <tr>\n",
       "      <th>5</th>\n",
       "      <td>-2</td>\n",
       "      <td>-2</td>\n",
       "      <td>-1</td>\n",
       "    </tr>\n",
       "    <tr>\n",
       "      <th>6</th>\n",
       "      <td>9</td>\n",
       "      <td>9</td>\n",
       "      <td>1</td>\n",
       "    </tr>\n",
       "    <tr>\n",
       "      <th>7</th>\n",
       "      <td>8</td>\n",
       "      <td>8</td>\n",
       "      <td>1</td>\n",
       "    </tr>\n",
       "    <tr>\n",
       "      <th>8</th>\n",
       "      <td>8</td>\n",
       "      <td>8</td>\n",
       "      <td>-1</td>\n",
       "    </tr>\n",
       "  </tbody>\n",
       "</table>\n",
       "</div>"
      ],
      "text/plain": [
       "   x1  x2  class\n",
       "0   3   1      1\n",
       "1   2  -4      1\n",
       "2   1   1     -1\n",
       "3  -1  -1     -1\n",
       "4  -5  -5     -1\n",
       "5  -2  -2     -1\n",
       "6   9   9      1\n",
       "7   8   8      1\n",
       "8   8   8     -1"
      ]
     },
     "execution_count": 3,
     "metadata": {},
     "output_type": "execute_result"
    }
   ],
   "source": [
    "# creating own data set\n",
    "df = pd.DataFrame({\"x1\":[3,2,1,-1,-5,-2,9,8,8],\n",
    "                  \"x2\":[1,-4,1,-1,-5,-2,9,8,8],\n",
    "                  \"class\":[1,1,-1,-1,-1,-1,1,1,-1]})\n",
    "df"
   ]
  },
  {
   "cell_type": "code",
   "execution_count": 5,
   "id": "1da18c25",
   "metadata": {},
   "outputs": [
    {
     "name": "stdout",
     "output_type": "stream",
     "text": [
      "Enter W1:-4\n",
      "Enter W2:-2\n",
      "Enter learning rate:0.5\n",
      "Enter bias:1\n",
      "[ 1. -4. -2.]\n",
      "[ 1. -4. -2.]\n",
      "[-1. -6. -4.]\n",
      "[-4. -9. -7.]\n",
      "[ -8. -13. -11.]\n",
      "[-13. -18. -16.]\n",
      "[-13. -18. -16.]\n",
      "[-13. -18. -16.]\n",
      "[-21. -26. -24.]\n"
     ]
    },
    {
     "data": {
      "text/html": [
       "<div>\n",
       "<style scoped>\n",
       "    .dataframe tbody tr th:only-of-type {\n",
       "        vertical-align: middle;\n",
       "    }\n",
       "\n",
       "    .dataframe tbody tr th {\n",
       "        vertical-align: top;\n",
       "    }\n",
       "\n",
       "    .dataframe thead th {\n",
       "        text-align: right;\n",
       "    }\n",
       "</style>\n",
       "<table border=\"1\" class=\"dataframe\">\n",
       "  <thead>\n",
       "    <tr style=\"text-align: right;\">\n",
       "      <th></th>\n",
       "      <th>bias</th>\n",
       "      <th>w1</th>\n",
       "      <th>w2</th>\n",
       "    </tr>\n",
       "  </thead>\n",
       "  <tbody>\n",
       "    <tr>\n",
       "      <th>0</th>\n",
       "      <td>1.0</td>\n",
       "      <td>-4.0</td>\n",
       "      <td>-2.0</td>\n",
       "    </tr>\n",
       "    <tr>\n",
       "      <th>1</th>\n",
       "      <td>1.0</td>\n",
       "      <td>-4.0</td>\n",
       "      <td>-2.0</td>\n",
       "    </tr>\n",
       "    <tr>\n",
       "      <th>2</th>\n",
       "      <td>-1.0</td>\n",
       "      <td>-6.0</td>\n",
       "      <td>-4.0</td>\n",
       "    </tr>\n",
       "    <tr>\n",
       "      <th>3</th>\n",
       "      <td>-4.0</td>\n",
       "      <td>-9.0</td>\n",
       "      <td>-7.0</td>\n",
       "    </tr>\n",
       "    <tr>\n",
       "      <th>4</th>\n",
       "      <td>-8.0</td>\n",
       "      <td>-13.0</td>\n",
       "      <td>-11.0</td>\n",
       "    </tr>\n",
       "    <tr>\n",
       "      <th>5</th>\n",
       "      <td>-13.0</td>\n",
       "      <td>-18.0</td>\n",
       "      <td>-16.0</td>\n",
       "    </tr>\n",
       "    <tr>\n",
       "      <th>6</th>\n",
       "      <td>-13.0</td>\n",
       "      <td>-18.0</td>\n",
       "      <td>-16.0</td>\n",
       "    </tr>\n",
       "    <tr>\n",
       "      <th>7</th>\n",
       "      <td>-13.0</td>\n",
       "      <td>-18.0</td>\n",
       "      <td>-16.0</td>\n",
       "    </tr>\n",
       "    <tr>\n",
       "      <th>8</th>\n",
       "      <td>-21.0</td>\n",
       "      <td>-26.0</td>\n",
       "      <td>-24.0</td>\n",
       "    </tr>\n",
       "  </tbody>\n",
       "</table>\n",
       "</div>"
      ],
      "text/plain": [
       "   bias    w1    w2\n",
       "0   1.0  -4.0  -2.0\n",
       "1   1.0  -4.0  -2.0\n",
       "2  -1.0  -6.0  -4.0\n",
       "3  -4.0  -9.0  -7.0\n",
       "4  -8.0 -13.0 -11.0\n",
       "5 -13.0 -18.0 -16.0\n",
       "6 -13.0 -18.0 -16.0\n",
       "7 -13.0 -18.0 -16.0\n",
       "8 -21.0 -26.0 -24.0"
      ]
     },
     "execution_count": 5,
     "metadata": {},
     "output_type": "execute_result"
    }
   ],
   "source": [
    "import numpy as np\n",
    "w1 = int(input(\"Enter W1:\"))\n",
    "w2 = int(input(\"Enter W2:\"))\n",
    "eita = float(input(\"Enter learning rate:\"))\n",
    "bias = int(input(\"Enter bias:\"))\n",
    "w = [bias, w1, w2]\n",
    "\n",
    "df1 = pd.DataFrame(columns = ['bias', 'w1', 'w2'])\n",
    "i=0\n",
    "for x in range (0, 9):\n",
    "    row = [1]\n",
    "    for y in range(0,2):\n",
    "        row.append(df.iloc[x,y])\n",
    "    row=np.array(row)\n",
    "    out = np.dot(w, row)\n",
    "    if out>=0:\n",
    "        y1=1\n",
    "    else :\n",
    "        y1=-1\n",
    "    d = df.iloc[x,2]\n",
    "    w=w+eita*(d-y)*x\n",
    "    print (w)\n",
    "    df1.loc[i]=w\n",
    "    i+=1\n",
    "#df1.to_excel(\"output.xlsx\")\n",
    "df1"
   ]
  },
  {
   "cell_type": "markdown",
   "id": "0445178c",
   "metadata": {},
   "source": [
    "# I tried :) "
   ]
  },
  {
   "cell_type": "code",
   "execution_count": null,
   "id": "11ff1d70",
   "metadata": {},
   "outputs": [],
   "source": [
    "# lets not think about it right now\n",
    "def take_input():\n"
   ]
  },
  {
   "cell_type": "code",
   "execution_count": 26,
   "id": "7fbc811e",
   "metadata": {},
   "outputs": [],
   "source": [
    "count = 0\n",
    "def signum (x):\n",
    "    return 1 if x>0 else -1"
   ]
  },
  {
   "cell_type": "code",
   "execution_count": 101,
   "id": "88886900",
   "metadata": {},
   "outputs": [],
   "source": [
    "\n",
    "def linear_perceptron(input_val, weight, classs ):\n",
    "    global count\n",
    "    eita = 0.5\n",
    "    input_val = np.array(input_val)\n",
    "    weight = np.array(weight)\n",
    "    y = signum(np.dot(input_val, weight))\n",
    "    if y != classs :\n",
    "        new_weight = weight + (eita*(classs - y))*input_val\n",
    "        count+=1\n",
    "        return linear_perceptron(input_val, new_weight, classs)\n",
    "    else :\n",
    "        print(f\"Classified as :{y} and originally it was {classs}\\nnumber of times weights were changed {count}\\nnew updated weights are {weight}\")\n",
    "        "
   ]
  },
  {
   "cell_type": "code",
   "execution_count": 102,
   "id": "afeca5e2",
   "metadata": {
    "scrolled": true
   },
   "outputs": [
    {
     "name": "stdout",
     "output_type": "stream",
     "text": [
      "Classified as :1 and originally it was 1\n",
      "number of times weights were changed 2\n",
      "new updated weights are [ 1.  1. -7.]\n"
     ]
    }
   ],
   "source": [
    "\n",
    "linear_perceptron([1,-4,-6], [-1,9,5], 1)\n",
    "count =0 "
   ]
  }
 ],
 "metadata": {
  "kernelspec": {
   "display_name": "Python 3 (ipykernel)",
   "language": "python",
   "name": "python3"
  },
  "language_info": {
   "codemirror_mode": {
    "name": "ipython",
    "version": 3
   },
   "file_extension": ".py",
   "mimetype": "text/x-python",
   "name": "python",
   "nbconvert_exporter": "python",
   "pygments_lexer": "ipython3",
   "version": "3.11.4"
  }
 },
 "nbformat": 4,
 "nbformat_minor": 5
}
